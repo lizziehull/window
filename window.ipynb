{
 "cells": [
  {
   "cell_type": "code",
   "execution_count": 1,
   "id": "7b5eaa28-7b58-413e-aa27-83738a00588e",
   "metadata": {},
   "outputs": [],
   "source": [
    "from pyspark.sql import DataFrame, SparkSession, Window, functions as F"
   ]
  },
  {
   "cell_type": "code",
   "execution_count": 2,
   "id": "d0a74a0d-9b88-4f06-9269-dfbfd6bed98a",
   "metadata": {},
   "outputs": [],
   "source": [
    "from pyspark.sql.types import (\n",
    "    IntegerType,\n",
    "    StringType,\n",
    "    StructField,\n",
    "    StructType,\n",
    "    TimestampType,\n",
    ")"
   ]
  },
  {
   "cell_type": "code",
   "execution_count": 3,
   "id": "776ee360-cce2-4c7c-8a38-0f25371aefa7",
   "metadata": {},
   "outputs": [],
   "source": [
    "from datetime import datetime"
   ]
  },
  {
   "cell_type": "code",
   "execution_count": 4,
   "id": "d24a158e-a449-4e4d-ac43-73b9368dc5a9",
   "metadata": {},
   "outputs": [
    {
     "name": "stderr",
     "output_type": "stream",
     "text": [
      "Setting default log level to \"WARN\".\n",
      "To adjust logging level use sc.setLogLevel(newLevel). For SparkR, use setLogLevel(newLevel).\n",
      "24/04/23 09:14:21 WARN NativeCodeLoader: Unable to load native-hadoop library for your platform... using builtin-java classes where applicable\n"
     ]
    }
   ],
   "source": [
    "spark = SparkSession.builder.getOrCreate()"
   ]
  },
  {
   "cell_type": "code",
   "execution_count": 5,
   "id": "65ab3825-7aa6-41bf-b8b5-ab2c58b4cfca",
   "metadata": {},
   "outputs": [],
   "source": [
    "schema = StructType(\n",
    "        [\n",
    "            StructField(\"location\", StringType(), True),\n",
    "            StructField(\"item_code\", IntegerType(), True),\n",
    "            StructField(\"colour\", StringType(), True),\n",
    "            StructField(\"append_timestamp\", TimestampType(), True),\n",
    "        ]\n",
    "    )"
   ]
  },
  {
   "cell_type": "code",
   "execution_count": 6,
   "id": "54b5fb01-65ad-4064-9d28-f0d7a01d725e",
   "metadata": {},
   "outputs": [],
   "source": [
    "data = [\n",
    "    (\"london\", 111111, \"yellow\", datetime(2024, 1, 1)),\n",
    "    (\"london\", 222222, \"blue\", datetime(2024, 1, 1)),\n",
    "    (\"not london\", 222222, \"red\", datetime(2024, 4, 1)),\n",
    "    (\"not london\", 222222, \"blue\", datetime(2024, 4, 1)),\n",
    "]"
   ]
  },
  {
   "cell_type": "code",
   "execution_count": 7,
   "id": "86a82eb0-5754-4239-8a9e-86bb5b9579c5",
   "metadata": {},
   "outputs": [],
   "source": [
    "df = spark.createDataFrame(schema=schema, data=data)"
   ]
  },
  {
   "cell_type": "code",
   "execution_count": 8,
   "id": "135c0df0-e8f4-44cd-8f4d-eb0941688164",
   "metadata": {},
   "outputs": [
    {
     "name": "stderr",
     "output_type": "stream",
     "text": [
      "                                                                                \r"
     ]
    },
    {
     "name": "stdout",
     "output_type": "stream",
     "text": [
      "+----------+---------+------+-------------------+\n",
      "|  location|item_code|colour|   append_timestamp|\n",
      "+----------+---------+------+-------------------+\n",
      "|    london|   111111|yellow|2024-01-01 00:00:00|\n",
      "|    london|   222222|  blue|2024-01-01 00:00:00|\n",
      "|not london|   222222|   red|2024-04-01 00:00:00|\n",
      "|not london|   222222|  blue|2024-04-01 00:00:00|\n",
      "+----------+---------+------+-------------------+\n",
      "\n"
     ]
    }
   ],
   "source": [
    "df.show()"
   ]
  },
  {
   "cell_type": "code",
   "execution_count": 19,
   "id": "4dc9d0db-d5cc-4b0f-bfa3-b5c18ab7bdc1",
   "metadata": {},
   "outputs": [],
   "source": [
    "df2 = df.withColumn(\"latest_time\", F.max(\"append_timestamp\").over(Window.partitionBy(\"item_code\", \"colour\").orderBy()))"
   ]
  },
  {
   "cell_type": "code",
   "execution_count": 20,
   "id": "084c3fba-ae1a-4c7e-a70d-25adbd5a21ea",
   "metadata": {},
   "outputs": [
    {
     "name": "stdout",
     "output_type": "stream",
     "text": [
      "+----------+---------+------+-------------------+-------------------+\n",
      "|  location|item_code|colour|   append_timestamp|        latest_time|\n",
      "+----------+---------+------+-------------------+-------------------+\n",
      "|    london|   111111|yellow|2024-01-01 00:00:00|2024-01-01 00:00:00|\n",
      "|    london|   222222|  blue|2024-01-01 00:00:00|2024-04-01 00:00:00|\n",
      "|not london|   222222|  blue|2024-04-01 00:00:00|2024-04-01 00:00:00|\n",
      "|not london|   222222|   red|2024-04-01 00:00:00|2024-04-01 00:00:00|\n",
      "+----------+---------+------+-------------------+-------------------+\n",
      "\n"
     ]
    }
   ],
   "source": [
    "df2.show()"
   ]
  },
  {
   "cell_type": "code",
   "execution_count": 21,
   "id": "61318f16-1471-41dc-bcab-9cf98cc6b9f8",
   "metadata": {},
   "outputs": [],
   "source": [
    "df2 = df2.filter(F.col(\"append_timestamp\") == F.col(\"latest_time\")).drop(\"latest_time\")"
   ]
  },
  {
   "cell_type": "code",
   "execution_count": 22,
   "id": "af751a34-e2a5-47ce-b022-bd026ecd5e5a",
   "metadata": {},
   "outputs": [
    {
     "name": "stdout",
     "output_type": "stream",
     "text": [
      "+----------+---------+------+-------------------+\n",
      "|  location|item_code|colour|   append_timestamp|\n",
      "+----------+---------+------+-------------------+\n",
      "|    london|   111111|yellow|2024-01-01 00:00:00|\n",
      "|not london|   222222|  blue|2024-04-01 00:00:00|\n",
      "|not london|   222222|   red|2024-04-01 00:00:00|\n",
      "+----------+---------+------+-------------------+\n",
      "\n"
     ]
    }
   ],
   "source": [
    "df2.show()"
   ]
  },
  {
   "cell_type": "code",
   "execution_count": null,
   "id": "1abe42eb-4b29-4604-b5d7-05668eea4292",
   "metadata": {},
   "outputs": [],
   "source": []
  }
 ],
 "metadata": {
  "environment": {
   "kernel": "python3",
   "name": "common-cpu.m112",
   "type": "gcloud",
   "uri": "gcr.io/deeplearning-platform-release/base-cpu:m112"
  },
  "kernelspec": {
   "display_name": "Python 3",
   "language": "python",
   "name": "python3"
  },
  "language_info": {
   "codemirror_mode": {
    "name": "ipython",
    "version": 3
   },
   "file_extension": ".py",
   "mimetype": "text/x-python",
   "name": "python",
   "nbconvert_exporter": "python",
   "pygments_lexer": "ipython3",
   "version": "3.10.12"
  }
 },
 "nbformat": 4,
 "nbformat_minor": 5
}
